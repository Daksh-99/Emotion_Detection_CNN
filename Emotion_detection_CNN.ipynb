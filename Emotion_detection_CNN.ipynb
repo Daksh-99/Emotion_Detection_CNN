{
  "cells": [
    {
      "cell_type": "code",
      "execution_count": null,
      "id": "bf6573e7",
      "metadata": {
        "colab": {
          "base_uri": "https://localhost:8080/"
        },
        "id": "bf6573e7",
        "outputId": "b37a6b3b-3d25-41e0-95ea-e1511a279b70"
      },
      "outputs": [
        {
          "name": "stdout",
          "output_type": "stream",
          "text": [
            "Collecting keras_preprocessing\n",
            "  Downloading Keras_Preprocessing-1.1.2-py2.py3-none-any.whl.metadata (1.9 kB)\n",
            "Requirement already satisfied: numpy>=1.9.1 in /usr/local/lib/python3.11/dist-packages (from keras_preprocessing) (2.0.2)\n",
            "Requirement already satisfied: six>=1.9.0 in /usr/local/lib/python3.11/dist-packages (from keras_preprocessing) (1.17.0)\n",
            "Downloading Keras_Preprocessing-1.1.2-py2.py3-none-any.whl (42 kB)\n",
            "\u001b[?25l   \u001b[90m━━━━━━━━━━━━━━━━━━━━━━━━━━━━━━━━━━━━━━━━\u001b[0m \u001b[32m0.0/42.6 kB\u001b[0m \u001b[31m?\u001b[0m eta \u001b[36m-:--:--\u001b[0m\r\u001b[2K   \u001b[90m━━━━━━━━━━━━━━━━━━━━━━━━━━━━━━━━━━━━━━━━\u001b[0m \u001b[32m42.6/42.6 kB\u001b[0m \u001b[31m3.2 MB/s\u001b[0m eta \u001b[36m0:00:00\u001b[0m\n",
            "\u001b[?25hInstalling collected packages: keras_preprocessing\n",
            "Successfully installed keras_preprocessing-1.1.2\n"
          ]
        }
      ],
      "source": [
        "# Importing additional libraries\n",
        "import os\n",
        "import pandas as pd\n",
        "import numpy as np\n",
        "import matplotlib.pyplot as plt\n",
        "\n",
        "# Enabling inline plotting for Jupyter Notebooks\n",
        "%matplotlib inline\n",
        "!pip install keras_preprocessing\n",
        "# Importing necessary libraries from Keras\n",
        "from keras.utils import to_categorical\n",
        "from keras.models import model_from_json\n",
        "from keras_preprocessing.image import load_img\n",
        "from keras.models import Sequential\n",
        "from keras.layers import Dense, Conv2D, Dropout, Flatten, MaxPooling2D, Input"
      ]
    },
    {
      "cell_type": "markdown",
      "id": "xwX7wzgpcjxm",
      "metadata": {
        "id": "xwX7wzgpcjxm"
      },
      "source": [
        "## Data Preprocessing"
      ]
    },
    {
      "cell_type": "code",
      "execution_count": null,
      "id": "905837b3",
      "metadata": {
        "id": "905837b3"
      },
      "outputs": [],
      "source": [
        "#Define directories for training and testing images\n",
        "TRAIN_DIR = '/content/drive/MyDrive/Colab Notebooks/Emotion-detection/images/train'\n",
        "TEST_DIR = '/content/drive/MyDrive/Colab Notebooks/Emotion-detection/images/test'"
      ]
    },
    {
      "cell_type": "code",
      "execution_count": null,
      "id": "eda524b2",
      "metadata": {
        "id": "eda524b2"
      },
      "outputs": [],
      "source": [
        "def createdataframe(dir):\n",
        "    # Initializing lists to store image paths and labels\n",
        "    image_paths = []\n",
        "    labels = []\n",
        "\n",
        "    # Iterating through each label directory\n",
        "    for label in os.listdir(dir):\n",
        "        # Iterating through each image in the label directory\n",
        "        for imagename in os.listdir(os.path.join(dir,label)):\n",
        "            # Appending the image path and corresponding label\n",
        "            image_paths.append(os.path.join(dir,label,imagename))\n",
        "            labels.append(label)\n",
        "        # Printing progress for each label\n",
        "        print(label, \"completed\")\n",
        "\n",
        "    # Returning the lists of image paths and labels\n",
        "    return image_paths, labels"
      ]
    },
    {
      "cell_type": "code",
      "execution_count": null,
      "id": "c2e2de11",
      "metadata": {
        "colab": {
          "base_uri": "https://localhost:8080/"
        },
        "id": "c2e2de11",
        "outputId": "a4e15038-a94f-4a19-8e42-50ea16cdce70"
      },
      "outputs": [
        {
          "name": "stdout",
          "output_type": "stream",
          "text": [
            "disgust completed\n",
            "fear completed\n",
            "angry completed\n",
            "neutral completed\n",
            "sad completed\n",
            "happy completed\n",
            "surprise completed\n"
          ]
        }
      ],
      "source": [
        "# Creating an empty DataFrame\n",
        "train = pd.DataFrame()\n",
        "\n",
        "# Filing the DataFrame with image paths and labels using the createdataframe function\n",
        "train['image'], train['label'] = createdataframe(TRAIN_DIR)\n"
      ]
    },
    {
      "cell_type": "code",
      "execution_count": null,
      "id": "e551d2b3",
      "metadata": {
        "colab": {
          "base_uri": "https://localhost:8080/"
        },
        "id": "e551d2b3",
        "outputId": "0c72930e-53ba-4177-ea28-fcec39ca1bc3"
      },
      "outputs": [
        {
          "name": "stdout",
          "output_type": "stream",
          "text": [
            "surprise completed\n",
            "fear completed\n",
            "neutral completed\n",
            "sad completed\n",
            "disgust completed\n",
            "happy completed\n",
            "angry completed\n"
          ]
        }
      ],
      "source": [
        "# Creating an empty DataFrame\n",
        "test = pd.DataFrame()\n",
        "# Filing the DataFrame with image paths and labels using the createdataframe function\n",
        "test['image'], test['label'] = createdataframe(TEST_DIR)"
      ]
    },
    {
      "cell_type": "code",
      "execution_count": null,
      "id": "c777cb0c",
      "metadata": {
        "id": "c777cb0c"
      },
      "outputs": [],
      "source": [
        "# Importing the tqdm library's notebook version\n",
        "from tqdm.notebook import tqdm"
      ]
    },
    {
      "cell_type": "code",
      "execution_count": null,
      "id": "5a300029",
      "metadata": {
        "id": "5a300029"
      },
      "outputs": [],
      "source": [
        "def extract_features(images):\n",
        "    # Initializing an empty list to store features\n",
        "    features = []\n",
        "    # Looping through each image filename in the list, displaying a progress bar\n",
        "    for image in tqdm(images):\n",
        "        # Loading the image in grayscale\n",
        "        img = load_img(image, color_mode=\"grayscale\")\n",
        "        # Converting the image to a numpy array\n",
        "        img = np.array(img)\n",
        "        # Appending the image array to the features list\n",
        "        features.append(img)\n",
        "\n",
        "    # Converting the list of image arrays to a numpy array\n",
        "    features = np.array(features)\n",
        "    # Reshapeing the array to have dimensions (number of images, height, width, channels)\n",
        "    features = features.reshape(len(features), 48, 48, 1)\n",
        "    # Returning the extracted features\n",
        "    return features\n"
      ]
    },
    {
      "cell_type": "code",
      "execution_count": null,
      "id": "1693abc1",
      "metadata": {
        "colab": {
          "base_uri": "https://localhost:8080/",
          "height": 34,
          "referenced_widgets": [
            "32100594dfe04919bab48896b448acd4"
          ]
        },
        "id": "1693abc1",
        "outputId": "b1982644-d17b-40c1-e3af-1b1d81e4d05a"
      },
      "outputs": [
        {
          "data": {
            "application/vnd.jupyter.widget-view+json": {
              "model_id": "32100594dfe04919bab48896b448acd4",
              "version_major": 2,
              "version_minor": 0
            },
            "text/plain": [
              "  0%|          | 0/28710 [00:00<?, ?it/s]"
            ]
          },
          "metadata": {},
          "output_type": "display_data"
        }
      ],
      "source": [
        "train_features = extract_features(train['image'])\n",
        "test_features = extract_features(test['image'])"
      ]
    },
    {
      "cell_type": "code",
      "execution_count": null,
      "id": "64e19434",
      "metadata": {
        "id": "64e19434"
      },
      "outputs": [],
      "source": [
        "# Divide the pixel values of the training features by 255.0 to scale them between 0 and 1\n",
        "x_train = train_features/255.0\n",
        "x_test = test_features/255.0"
      ]
    },
    {
      "cell_type": "code",
      "execution_count": null,
      "id": "995fc837",
      "metadata": {
        "id": "995fc837"
      },
      "outputs": [],
      "source": [
        "from sklearn.preprocessing import LabelEncoder"
      ]
    },
    {
      "cell_type": "code",
      "execution_count": null,
      "id": "ca4c6895",
      "metadata": {
        "colab": {
          "base_uri": "https://localhost:8080/",
          "height": 80
        },
        "id": "ca4c6895",
        "outputId": "90510c95-569d-4d62-e3e5-7970591f0144"
      },
      "outputs": [
        {
          "data": {
            "text/html": [
              "<style>#sk-container-id-1 {\n",
              "  /* Definition of color scheme common for light and dark mode */\n",
              "  --sklearn-color-text: #000;\n",
              "  --sklearn-color-text-muted: #666;\n",
              "  --sklearn-color-line: gray;\n",
              "  /* Definition of color scheme for unfitted estimators */\n",
              "  --sklearn-color-unfitted-level-0: #fff5e6;\n",
              "  --sklearn-color-unfitted-level-1: #f6e4d2;\n",
              "  --sklearn-color-unfitted-level-2: #ffe0b3;\n",
              "  --sklearn-color-unfitted-level-3: chocolate;\n",
              "  /* Definition of color scheme for fitted estimators */\n",
              "  --sklearn-color-fitted-level-0: #f0f8ff;\n",
              "  --sklearn-color-fitted-level-1: #d4ebff;\n",
              "  --sklearn-color-fitted-level-2: #b3dbfd;\n",
              "  --sklearn-color-fitted-level-3: cornflowerblue;\n",
              "\n",
              "  /* Specific color for light theme */\n",
              "  --sklearn-color-text-on-default-background: var(--sg-text-color, var(--theme-code-foreground, var(--jp-content-font-color1, black)));\n",
              "  --sklearn-color-background: var(--sg-background-color, var(--theme-background, var(--jp-layout-color0, white)));\n",
              "  --sklearn-color-border-box: var(--sg-text-color, var(--theme-code-foreground, var(--jp-content-font-color1, black)));\n",
              "  --sklearn-color-icon: #696969;\n",
              "\n",
              "  @media (prefers-color-scheme: dark) {\n",
              "    /* Redefinition of color scheme for dark theme */\n",
              "    --sklearn-color-text-on-default-background: var(--sg-text-color, var(--theme-code-foreground, var(--jp-content-font-color1, white)));\n",
              "    --sklearn-color-background: var(--sg-background-color, var(--theme-background, var(--jp-layout-color0, #111)));\n",
              "    --sklearn-color-border-box: var(--sg-text-color, var(--theme-code-foreground, var(--jp-content-font-color1, white)));\n",
              "    --sklearn-color-icon: #878787;\n",
              "  }\n",
              "}\n",
              "\n",
              "#sk-container-id-1 {\n",
              "  color: var(--sklearn-color-text);\n",
              "}\n",
              "\n",
              "#sk-container-id-1 pre {\n",
              "  padding: 0;\n",
              "}\n",
              "\n",
              "#sk-container-id-1 input.sk-hidden--visually {\n",
              "  border: 0;\n",
              "  clip: rect(1px 1px 1px 1px);\n",
              "  clip: rect(1px, 1px, 1px, 1px);\n",
              "  height: 1px;\n",
              "  margin: -1px;\n",
              "  overflow: hidden;\n",
              "  padding: 0;\n",
              "  position: absolute;\n",
              "  width: 1px;\n",
              "}\n",
              "\n",
              "#sk-container-id-1 div.sk-dashed-wrapped {\n",
              "  border: 1px dashed var(--sklearn-color-line);\n",
              "  margin: 0 0.4em 0.5em 0.4em;\n",
              "  box-sizing: border-box;\n",
              "  padding-bottom: 0.4em;\n",
              "  background-color: var(--sklearn-color-background);\n",
              "}\n",
              "\n",
              "#sk-container-id-1 div.sk-container {\n",
              "  /* jupyter's `normalize.less` sets `[hidden] { display: none; }`\n",
              "     but bootstrap.min.css set `[hidden] { display: none !important; }`\n",
              "     so we also need the `!important` here to be able to override the\n",
              "     default hidden behavior on the sphinx rendered scikit-learn.org.\n",
              "     See: https://github.com/scikit-learn/scikit-learn/issues/21755 */\n",
              "  display: inline-block !important;\n",
              "  position: relative;\n",
              "}\n",
              "\n",
              "#sk-container-id-1 div.sk-text-repr-fallback {\n",
              "  display: none;\n",
              "}\n",
              "\n",
              "div.sk-parallel-item,\n",
              "div.sk-serial,\n",
              "div.sk-item {\n",
              "  /* draw centered vertical line to link estimators */\n",
              "  background-image: linear-gradient(var(--sklearn-color-text-on-default-background), var(--sklearn-color-text-on-default-background));\n",
              "  background-size: 2px 100%;\n",
              "  background-repeat: no-repeat;\n",
              "  background-position: center center;\n",
              "}\n",
              "\n",
              "/* Parallel-specific style estimator block */\n",
              "\n",
              "#sk-container-id-1 div.sk-parallel-item::after {\n",
              "  content: \"\";\n",
              "  width: 100%;\n",
              "  border-bottom: 2px solid var(--sklearn-color-text-on-default-background);\n",
              "  flex-grow: 1;\n",
              "}\n",
              "\n",
              "#sk-container-id-1 div.sk-parallel {\n",
              "  display: flex;\n",
              "  align-items: stretch;\n",
              "  justify-content: center;\n",
              "  background-color: var(--sklearn-color-background);\n",
              "  position: relative;\n",
              "}\n",
              "\n",
              "#sk-container-id-1 div.sk-parallel-item {\n",
              "  display: flex;\n",
              "  flex-direction: column;\n",
              "}\n",
              "\n",
              "#sk-container-id-1 div.sk-parallel-item:first-child::after {\n",
              "  align-self: flex-end;\n",
              "  width: 50%;\n",
              "}\n",
              "\n",
              "#sk-container-id-1 div.sk-parallel-item:last-child::after {\n",
              "  align-self: flex-start;\n",
              "  width: 50%;\n",
              "}\n",
              "\n",
              "#sk-container-id-1 div.sk-parallel-item:only-child::after {\n",
              "  width: 0;\n",
              "}\n",
              "\n",
              "/* Serial-specific style estimator block */\n",
              "\n",
              "#sk-container-id-1 div.sk-serial {\n",
              "  display: flex;\n",
              "  flex-direction: column;\n",
              "  align-items: center;\n",
              "  background-color: var(--sklearn-color-background);\n",
              "  padding-right: 1em;\n",
              "  padding-left: 1em;\n",
              "}\n",
              "\n",
              "\n",
              "/* Toggleable style: style used for estimator/Pipeline/ColumnTransformer box that is\n",
              "clickable and can be expanded/collapsed.\n",
              "- Pipeline and ColumnTransformer use this feature and define the default style\n",
              "- Estimators will overwrite some part of the style using the `sk-estimator` class\n",
              "*/\n",
              "\n",
              "/* Pipeline and ColumnTransformer style (default) */\n",
              "\n",
              "#sk-container-id-1 div.sk-toggleable {\n",
              "  /* Default theme specific background. It is overwritten whether we have a\n",
              "  specific estimator or a Pipeline/ColumnTransformer */\n",
              "  background-color: var(--sklearn-color-background);\n",
              "}\n",
              "\n",
              "/* Toggleable label */\n",
              "#sk-container-id-1 label.sk-toggleable__label {\n",
              "  cursor: pointer;\n",
              "  display: flex;\n",
              "  width: 100%;\n",
              "  margin-bottom: 0;\n",
              "  padding: 0.5em;\n",
              "  box-sizing: border-box;\n",
              "  text-align: center;\n",
              "  align-items: start;\n",
              "  justify-content: space-between;\n",
              "  gap: 0.5em;\n",
              "}\n",
              "\n",
              "#sk-container-id-1 label.sk-toggleable__label .caption {\n",
              "  font-size: 0.6rem;\n",
              "  font-weight: lighter;\n",
              "  color: var(--sklearn-color-text-muted);\n",
              "}\n",
              "\n",
              "#sk-container-id-1 label.sk-toggleable__label-arrow:before {\n",
              "  /* Arrow on the left of the label */\n",
              "  content: \"▸\";\n",
              "  float: left;\n",
              "  margin-right: 0.25em;\n",
              "  color: var(--sklearn-color-icon);\n",
              "}\n",
              "\n",
              "#sk-container-id-1 label.sk-toggleable__label-arrow:hover:before {\n",
              "  color: var(--sklearn-color-text);\n",
              "}\n",
              "\n",
              "/* Toggleable content - dropdown */\n",
              "\n",
              "#sk-container-id-1 div.sk-toggleable__content {\n",
              "  max-height: 0;\n",
              "  max-width: 0;\n",
              "  overflow: hidden;\n",
              "  text-align: left;\n",
              "  /* unfitted */\n",
              "  background-color: var(--sklearn-color-unfitted-level-0);\n",
              "}\n",
              "\n",
              "#sk-container-id-1 div.sk-toggleable__content.fitted {\n",
              "  /* fitted */\n",
              "  background-color: var(--sklearn-color-fitted-level-0);\n",
              "}\n",
              "\n",
              "#sk-container-id-1 div.sk-toggleable__content pre {\n",
              "  margin: 0.2em;\n",
              "  border-radius: 0.25em;\n",
              "  color: var(--sklearn-color-text);\n",
              "  /* unfitted */\n",
              "  background-color: var(--sklearn-color-unfitted-level-0);\n",
              "}\n",
              "\n",
              "#sk-container-id-1 div.sk-toggleable__content.fitted pre {\n",
              "  /* unfitted */\n",
              "  background-color: var(--sklearn-color-fitted-level-0);\n",
              "}\n",
              "\n",
              "#sk-container-id-1 input.sk-toggleable__control:checked~div.sk-toggleable__content {\n",
              "  /* Expand drop-down */\n",
              "  max-height: 200px;\n",
              "  max-width: 100%;\n",
              "  overflow: auto;\n",
              "}\n",
              "\n",
              "#sk-container-id-1 input.sk-toggleable__control:checked~label.sk-toggleable__label-arrow:before {\n",
              "  content: \"▾\";\n",
              "}\n",
              "\n",
              "/* Pipeline/ColumnTransformer-specific style */\n",
              "\n",
              "#sk-container-id-1 div.sk-label input.sk-toggleable__control:checked~label.sk-toggleable__label {\n",
              "  color: var(--sklearn-color-text);\n",
              "  background-color: var(--sklearn-color-unfitted-level-2);\n",
              "}\n",
              "\n",
              "#sk-container-id-1 div.sk-label.fitted input.sk-toggleable__control:checked~label.sk-toggleable__label {\n",
              "  background-color: var(--sklearn-color-fitted-level-2);\n",
              "}\n",
              "\n",
              "/* Estimator-specific style */\n",
              "\n",
              "/* Colorize estimator box */\n",
              "#sk-container-id-1 div.sk-estimator input.sk-toggleable__control:checked~label.sk-toggleable__label {\n",
              "  /* unfitted */\n",
              "  background-color: var(--sklearn-color-unfitted-level-2);\n",
              "}\n",
              "\n",
              "#sk-container-id-1 div.sk-estimator.fitted input.sk-toggleable__control:checked~label.sk-toggleable__label {\n",
              "  /* fitted */\n",
              "  background-color: var(--sklearn-color-fitted-level-2);\n",
              "}\n",
              "\n",
              "#sk-container-id-1 div.sk-label label.sk-toggleable__label,\n",
              "#sk-container-id-1 div.sk-label label {\n",
              "  /* The background is the default theme color */\n",
              "  color: var(--sklearn-color-text-on-default-background);\n",
              "}\n",
              "\n",
              "/* On hover, darken the color of the background */\n",
              "#sk-container-id-1 div.sk-label:hover label.sk-toggleable__label {\n",
              "  color: var(--sklearn-color-text);\n",
              "  background-color: var(--sklearn-color-unfitted-level-2);\n",
              "}\n",
              "\n",
              "/* Label box, darken color on hover, fitted */\n",
              "#sk-container-id-1 div.sk-label.fitted:hover label.sk-toggleable__label.fitted {\n",
              "  color: var(--sklearn-color-text);\n",
              "  background-color: var(--sklearn-color-fitted-level-2);\n",
              "}\n",
              "\n",
              "/* Estimator label */\n",
              "\n",
              "#sk-container-id-1 div.sk-label label {\n",
              "  font-family: monospace;\n",
              "  font-weight: bold;\n",
              "  display: inline-block;\n",
              "  line-height: 1.2em;\n",
              "}\n",
              "\n",
              "#sk-container-id-1 div.sk-label-container {\n",
              "  text-align: center;\n",
              "}\n",
              "\n",
              "/* Estimator-specific */\n",
              "#sk-container-id-1 div.sk-estimator {\n",
              "  font-family: monospace;\n",
              "  border: 1px dotted var(--sklearn-color-border-box);\n",
              "  border-radius: 0.25em;\n",
              "  box-sizing: border-box;\n",
              "  margin-bottom: 0.5em;\n",
              "  /* unfitted */\n",
              "  background-color: var(--sklearn-color-unfitted-level-0);\n",
              "}\n",
              "\n",
              "#sk-container-id-1 div.sk-estimator.fitted {\n",
              "  /* fitted */\n",
              "  background-color: var(--sklearn-color-fitted-level-0);\n",
              "}\n",
              "\n",
              "/* on hover */\n",
              "#sk-container-id-1 div.sk-estimator:hover {\n",
              "  /* unfitted */\n",
              "  background-color: var(--sklearn-color-unfitted-level-2);\n",
              "}\n",
              "\n",
              "#sk-container-id-1 div.sk-estimator.fitted:hover {\n",
              "  /* fitted */\n",
              "  background-color: var(--sklearn-color-fitted-level-2);\n",
              "}\n",
              "\n",
              "/* Specification for estimator info (e.g. \"i\" and \"?\") */\n",
              "\n",
              "/* Common style for \"i\" and \"?\" */\n",
              "\n",
              ".sk-estimator-doc-link,\n",
              "a:link.sk-estimator-doc-link,\n",
              "a:visited.sk-estimator-doc-link {\n",
              "  float: right;\n",
              "  font-size: smaller;\n",
              "  line-height: 1em;\n",
              "  font-family: monospace;\n",
              "  background-color: var(--sklearn-color-background);\n",
              "  border-radius: 1em;\n",
              "  height: 1em;\n",
              "  width: 1em;\n",
              "  text-decoration: none !important;\n",
              "  margin-left: 0.5em;\n",
              "  text-align: center;\n",
              "  /* unfitted */\n",
              "  border: var(--sklearn-color-unfitted-level-1) 1pt solid;\n",
              "  color: var(--sklearn-color-unfitted-level-1);\n",
              "}\n",
              "\n",
              ".sk-estimator-doc-link.fitted,\n",
              "a:link.sk-estimator-doc-link.fitted,\n",
              "a:visited.sk-estimator-doc-link.fitted {\n",
              "  /* fitted */\n",
              "  border: var(--sklearn-color-fitted-level-1) 1pt solid;\n",
              "  color: var(--sklearn-color-fitted-level-1);\n",
              "}\n",
              "\n",
              "/* On hover */\n",
              "div.sk-estimator:hover .sk-estimator-doc-link:hover,\n",
              ".sk-estimator-doc-link:hover,\n",
              "div.sk-label-container:hover .sk-estimator-doc-link:hover,\n",
              ".sk-estimator-doc-link:hover {\n",
              "  /* unfitted */\n",
              "  background-color: var(--sklearn-color-unfitted-level-3);\n",
              "  color: var(--sklearn-color-background);\n",
              "  text-decoration: none;\n",
              "}\n",
              "\n",
              "div.sk-estimator.fitted:hover .sk-estimator-doc-link.fitted:hover,\n",
              ".sk-estimator-doc-link.fitted:hover,\n",
              "div.sk-label-container:hover .sk-estimator-doc-link.fitted:hover,\n",
              ".sk-estimator-doc-link.fitted:hover {\n",
              "  /* fitted */\n",
              "  background-color: var(--sklearn-color-fitted-level-3);\n",
              "  color: var(--sklearn-color-background);\n",
              "  text-decoration: none;\n",
              "}\n",
              "\n",
              "/* Span, style for the box shown on hovering the info icon */\n",
              ".sk-estimator-doc-link span {\n",
              "  display: none;\n",
              "  z-index: 9999;\n",
              "  position: relative;\n",
              "  font-weight: normal;\n",
              "  right: .2ex;\n",
              "  padding: .5ex;\n",
              "  margin: .5ex;\n",
              "  width: min-content;\n",
              "  min-width: 20ex;\n",
              "  max-width: 50ex;\n",
              "  color: var(--sklearn-color-text);\n",
              "  box-shadow: 2pt 2pt 4pt #999;\n",
              "  /* unfitted */\n",
              "  background: var(--sklearn-color-unfitted-level-0);\n",
              "  border: .5pt solid var(--sklearn-color-unfitted-level-3);\n",
              "}\n",
              "\n",
              ".sk-estimator-doc-link.fitted span {\n",
              "  /* fitted */\n",
              "  background: var(--sklearn-color-fitted-level-0);\n",
              "  border: var(--sklearn-color-fitted-level-3);\n",
              "}\n",
              "\n",
              ".sk-estimator-doc-link:hover span {\n",
              "  display: block;\n",
              "}\n",
              "\n",
              "/* \"?\"-specific style due to the `<a>` HTML tag */\n",
              "\n",
              "#sk-container-id-1 a.estimator_doc_link {\n",
              "  float: right;\n",
              "  font-size: 1rem;\n",
              "  line-height: 1em;\n",
              "  font-family: monospace;\n",
              "  background-color: var(--sklearn-color-background);\n",
              "  border-radius: 1rem;\n",
              "  height: 1rem;\n",
              "  width: 1rem;\n",
              "  text-decoration: none;\n",
              "  /* unfitted */\n",
              "  color: var(--sklearn-color-unfitted-level-1);\n",
              "  border: var(--sklearn-color-unfitted-level-1) 1pt solid;\n",
              "}\n",
              "\n",
              "#sk-container-id-1 a.estimator_doc_link.fitted {\n",
              "  /* fitted */\n",
              "  border: var(--sklearn-color-fitted-level-1) 1pt solid;\n",
              "  color: var(--sklearn-color-fitted-level-1);\n",
              "}\n",
              "\n",
              "/* On hover */\n",
              "#sk-container-id-1 a.estimator_doc_link:hover {\n",
              "  /* unfitted */\n",
              "  background-color: var(--sklearn-color-unfitted-level-3);\n",
              "  color: var(--sklearn-color-background);\n",
              "  text-decoration: none;\n",
              "}\n",
              "\n",
              "#sk-container-id-1 a.estimator_doc_link.fitted:hover {\n",
              "  /* fitted */\n",
              "  background-color: var(--sklearn-color-fitted-level-3);\n",
              "}\n",
              "</style><div id=\"sk-container-id-1\" class=\"sk-top-container\"><div class=\"sk-text-repr-fallback\"><pre>LabelEncoder()</pre><b>In a Jupyter environment, please rerun this cell to show the HTML representation or trust the notebook. <br />On GitHub, the HTML representation is unable to render, please try loading this page with nbviewer.org.</b></div><div class=\"sk-container\" hidden><div class=\"sk-item\"><div class=\"sk-estimator fitted sk-toggleable\"><input class=\"sk-toggleable__control sk-hidden--visually\" id=\"sk-estimator-id-1\" type=\"checkbox\" checked><label for=\"sk-estimator-id-1\" class=\"sk-toggleable__label fitted sk-toggleable__label-arrow\"><div><div>LabelEncoder</div></div><div><a class=\"sk-estimator-doc-link fitted\" rel=\"noreferrer\" target=\"_blank\" href=\"https://scikit-learn.org/1.6/modules/generated/sklearn.preprocessing.LabelEncoder.html\">?<span>Documentation for LabelEncoder</span></a><span class=\"sk-estimator-doc-link fitted\">i<span>Fitted</span></span></div></label><div class=\"sk-toggleable__content fitted\"><pre>LabelEncoder()</pre></div> </div></div></div></div>"
            ],
            "text/plain": [
              "LabelEncoder()"
            ]
          },
          "execution_count": 12,
          "metadata": {},
          "output_type": "execute_result"
        }
      ],
      "source": [
        "# Initializing a LabelEncoder object\n",
        "le = LabelEncoder()\n",
        "# Fit the LabelEncodeing to the labels in the 'label' column of the 'train' dataframe\n",
        "le.fit(train['label'])"
      ]
    },
    {
      "cell_type": "code",
      "execution_count": null,
      "id": "c59ea9e0",
      "metadata": {
        "id": "c59ea9e0"
      },
      "outputs": [],
      "source": [
        "# Transforming the categorical labels in the 'label' column of the training data using the fitted LabelEncoder\n",
        "y_train = le.transform(train['label'])\n",
        "# Transforming the categorical labels in the 'label' column of the test data using the fitted LabelEncoder\n",
        "y_test = le.transform(test['label'])\n"
      ]
    },
    {
      "cell_type": "code",
      "execution_count": null,
      "id": "5313f6cb",
      "metadata": {
        "id": "5313f6cb"
      },
      "outputs": [],
      "source": [
        "# Converting the numerical labels for training data into one-hot encoded vectors with 7 classes\n",
        "y_train = to_categorical(y_train, num_classes=7)\n",
        "# Converting the numerical labels for test data into one-hot encoded vectors with 7 classes\n",
        "y_test = to_categorical(y_test, num_classes=7)\n"
      ]
    },
    {
      "cell_type": "markdown",
      "id": "6ytxEEg1ca0b",
      "metadata": {
        "id": "6ytxEEg1ca0b"
      },
      "source": [
        "## Model initialization"
      ]
    },
    {
      "cell_type": "code",
      "execution_count": null,
      "id": "c24678ea",
      "metadata": {
        "id": "c24678ea"
      },
      "outputs": [],
      "source": [
        "# Initializing a sequential model\n",
        "model = Sequential()\n",
        "\n",
        "# Convolutional layers\n",
        "# Adding a convolutional layer with 128 filters, each with a 3x3 kernel size, ReLU activation function, and input shape of (48, 48, 1)\n",
        "model.add(Input(shape=(48, 48, 1)))  # Define the input shape explicitly\n",
        "model.add(Conv2D(128, kernel_size=(3, 3), activation='relu'))# Adding a max pooling layer with a pool size of 2x2\n",
        "model.add(MaxPooling2D(pool_size=(2, 2)))\n",
        "# Adding a dropout layer with a dropout rate of 0.4\n",
        "model.add(Dropout(0.4))\n",
        "\n",
        "# Repeating the above pattern with different parameters for additional convolutional layers\n",
        "model.add(Conv2D(256, kernel_size=(3, 3), activation='relu'))\n",
        "model.add(MaxPooling2D(pool_size=(2, 2)))\n",
        "model.add(Dropout(0.4))\n",
        "\n",
        "model.add(Conv2D(512, kernel_size=(3, 3), activation='relu'))\n",
        "model.add(MaxPooling2D(pool_size=(2, 2)))\n",
        "model.add(Dropout(0.4))\n",
        "\n",
        "model.add(Conv2D(512, kernel_size=(3, 3), activation='relu'))\n",
        "model.add(MaxPooling2D(pool_size=(2, 2)))\n",
        "model.add(Dropout(0.4))\n",
        "\n",
        "# Flatten the output of the convolutional layers\n",
        "model.add(Flatten())\n",
        "\n",
        "# Fully connected layers\n",
        "# Adding a dense layer with 512 neurons and ReLU activation function\n",
        "model.add(Dense(512, activation='relu'))\n",
        "# Adding a dropout layer with a dropout rate of 0.4\n",
        "model.add(Dropout(0.4))\n",
        "# Adding a dense layer with 256 neurons and ReLU activation function\n",
        "model.add(Dense(256, activation='relu'))\n",
        "# Adding a dropout layer with a dropout rate of 0.3\n",
        "model.add(Dropout(0.3))\n",
        "\n",
        "# Output layer\n",
        "# Adding a dense layer with 7 neurons (since there are 7 classes) and softmax activation function\n",
        "model.add(Dense(7, activation='softmax'))"
      ]
    },
    {
      "cell_type": "code",
      "execution_count": null,
      "id": "2f432b14",
      "metadata": {
        "id": "2f432b14"
      },
      "outputs": [],
      "source": [
        "# Compile the model with Adam optimizer, categorical crossentropy loss, and accuracy metric\n",
        "model.compile(optimizer='adam', loss='categorical_crossentropy', metrics=['accuracy'])"
      ]
    },
    {
      "cell_type": "code",
      "execution_count": null,
      "id": "e7a03446",
      "metadata": {
        "colab": {
          "base_uri": "https://localhost:8080/"
        },
        "id": "e7a03446",
        "outputId": "29ff3274-54ea-4226-a1b5-1410532fcbb0"
      },
      "outputs": [
        {
          "name": "stdout",
          "output_type": "stream",
          "text": [
            "Epoch 1/70\n",
            "\u001b[1m225/225\u001b[0m \u001b[32m━━━━━━━━━━━━━━━━━━━━\u001b[0m\u001b[37m\u001b[0m \u001b[1m35s\u001b[0m 98ms/step - accuracy: 0.2411 - loss: 1.8357 - val_accuracy: 0.2472 - val_loss: 1.8149\n",
            "Epoch 2/70\n",
            "\u001b[1m225/225\u001b[0m \u001b[32m━━━━━━━━━━━━━━━━━━━━\u001b[0m\u001b[37m\u001b[0m \u001b[1m11s\u001b[0m 48ms/step - accuracy: 0.2495 - loss: 1.8091 - val_accuracy: 0.2553 - val_loss: 1.7836\n",
            "Epoch 3/70\n",
            "\u001b[1m225/225\u001b[0m \u001b[32m━━━━━━━━━━━━━━━━━━━━\u001b[0m\u001b[37m\u001b[0m \u001b[1m10s\u001b[0m 46ms/step - accuracy: 0.2677 - loss: 1.7670 - val_accuracy: 0.3318 - val_loss: 1.6732\n",
            "Epoch 4/70\n",
            "\u001b[1m225/225\u001b[0m \u001b[32m━━━━━━━━━━━━━━━━━━━━\u001b[0m\u001b[37m\u001b[0m \u001b[1m21s\u001b[0m 47ms/step - accuracy: 0.3342 - loss: 1.6670 - val_accuracy: 0.4277 - val_loss: 1.4767\n",
            "Epoch 5/70\n",
            "\u001b[1m225/225\u001b[0m \u001b[32m━━━━━━━━━━━━━━━━━━━━\u001b[0m\u001b[37m\u001b[0m \u001b[1m20s\u001b[0m 47ms/step - accuracy: 0.4002 - loss: 1.5313 - val_accuracy: 0.4189 - val_loss: 1.4700\n",
            "Epoch 6/70\n",
            "\u001b[1m225/225\u001b[0m \u001b[32m━━━━━━━━━━━━━━━━━━━━\u001b[0m\u001b[37m\u001b[0m \u001b[1m21s\u001b[0m 48ms/step - accuracy: 0.4300 - loss: 1.4655 - val_accuracy: 0.4919 - val_loss: 1.3196\n",
            "Epoch 7/70\n",
            "\u001b[1m225/225\u001b[0m \u001b[32m━━━━━━━━━━━━━━━━━━━━\u001b[0m\u001b[37m\u001b[0m \u001b[1m11s\u001b[0m 48ms/step - accuracy: 0.4552 - loss: 1.4123 - val_accuracy: 0.5018 - val_loss: 1.2896\n",
            "Epoch 8/70\n",
            "\u001b[1m225/225\u001b[0m \u001b[32m━━━━━━━━━━━━━━━━━━━━\u001b[0m\u001b[37m\u001b[0m \u001b[1m11s\u001b[0m 50ms/step - accuracy: 0.4740 - loss: 1.3666 - val_accuracy: 0.5176 - val_loss: 1.2525\n",
            "Epoch 9/70\n",
            "\u001b[1m225/225\u001b[0m \u001b[32m━━━━━━━━━━━━━━━━━━━━\u001b[0m\u001b[37m\u001b[0m \u001b[1m20s\u001b[0m 49ms/step - accuracy: 0.4913 - loss: 1.3341 - val_accuracy: 0.5311 - val_loss: 1.2188\n",
            "Epoch 10/70\n",
            "\u001b[1m225/225\u001b[0m \u001b[32m━━━━━━━━━━━━━━━━━━━━\u001b[0m\u001b[37m\u001b[0m \u001b[1m11s\u001b[0m 47ms/step - accuracy: 0.4967 - loss: 1.3087 - val_accuracy: 0.5337 - val_loss: 1.2167\n",
            "Epoch 11/70\n",
            "\u001b[1m225/225\u001b[0m \u001b[32m━━━━━━━━━━━━━━━━━━━━\u001b[0m\u001b[37m\u001b[0m \u001b[1m21s\u001b[0m 48ms/step - accuracy: 0.5103 - loss: 1.2868 - val_accuracy: 0.5351 - val_loss: 1.2022\n",
            "Epoch 12/70\n",
            "\u001b[1m225/225\u001b[0m \u001b[32m━━━━━━━━━━━━━━━━━━━━\u001b[0m\u001b[37m\u001b[0m \u001b[1m21s\u001b[0m 48ms/step - accuracy: 0.5127 - loss: 1.2808 - val_accuracy: 0.5521 - val_loss: 1.1784\n",
            "Epoch 13/70\n",
            "\u001b[1m225/225\u001b[0m \u001b[32m━━━━━━━━━━━━━━━━━━━━\u001b[0m\u001b[37m\u001b[0m \u001b[1m21s\u001b[0m 48ms/step - accuracy: 0.5225 - loss: 1.2630 - val_accuracy: 0.5534 - val_loss: 1.1602\n",
            "Epoch 14/70\n",
            "\u001b[1m225/225\u001b[0m \u001b[32m━━━━━━━━━━━━━━━━━━━━\u001b[0m\u001b[37m\u001b[0m \u001b[1m11s\u001b[0m 48ms/step - accuracy: 0.5272 - loss: 1.2415 - val_accuracy: 0.5567 - val_loss: 1.1448\n",
            "Epoch 15/70\n",
            "\u001b[1m225/225\u001b[0m \u001b[32m━━━━━━━━━━━━━━━━━━━━\u001b[0m\u001b[37m\u001b[0m \u001b[1m11s\u001b[0m 48ms/step - accuracy: 0.5282 - loss: 1.2279 - val_accuracy: 0.5666 - val_loss: 1.1452\n",
            "Epoch 16/70\n",
            "\u001b[1m225/225\u001b[0m \u001b[32m━━━━━━━━━━━━━━━━━━━━\u001b[0m\u001b[37m\u001b[0m \u001b[1m20s\u001b[0m 47ms/step - accuracy: 0.5371 - loss: 1.2262 - val_accuracy: 0.5642 - val_loss: 1.1284\n",
            "Epoch 17/70\n",
            "\u001b[1m225/225\u001b[0m \u001b[32m━━━━━━━━━━━━━━━━━━━━\u001b[0m\u001b[37m\u001b[0m \u001b[1m21s\u001b[0m 48ms/step - accuracy: 0.5441 - loss: 1.2036 - val_accuracy: 0.5641 - val_loss: 1.1339\n",
            "Epoch 18/70\n",
            "\u001b[1m225/225\u001b[0m \u001b[32m━━━━━━━━━━━━━━━━━━━━\u001b[0m\u001b[37m\u001b[0m \u001b[1m11s\u001b[0m 48ms/step - accuracy: 0.5524 - loss: 1.1835 - val_accuracy: 0.5702 - val_loss: 1.1206\n",
            "Epoch 19/70\n",
            "\u001b[1m225/225\u001b[0m \u001b[32m━━━━━━━━━━━━━━━━━━━━\u001b[0m\u001b[37m\u001b[0m \u001b[1m20s\u001b[0m 48ms/step - accuracy: 0.5570 - loss: 1.1749 - val_accuracy: 0.5746 - val_loss: 1.1089\n",
            "Epoch 20/70\n",
            "\u001b[1m225/225\u001b[0m \u001b[32m━━━━━━━━━━━━━━━━━━━━\u001b[0m\u001b[37m\u001b[0m \u001b[1m11s\u001b[0m 48ms/step - accuracy: 0.5572 - loss: 1.1656 - val_accuracy: 0.5722 - val_loss: 1.1119\n",
            "Epoch 21/70\n",
            "\u001b[1m225/225\u001b[0m \u001b[32m━━━━━━━━━━━━━━━━━━━━\u001b[0m\u001b[37m\u001b[0m \u001b[1m11s\u001b[0m 48ms/step - accuracy: 0.5652 - loss: 1.1553 - val_accuracy: 0.5772 - val_loss: 1.1007\n",
            "Epoch 22/70\n",
            "\u001b[1m225/225\u001b[0m \u001b[32m━━━━━━━━━━━━━━━━━━━━\u001b[0m\u001b[37m\u001b[0m \u001b[1m11s\u001b[0m 50ms/step - accuracy: 0.5696 - loss: 1.1442 - val_accuracy: 0.5762 - val_loss: 1.1200\n",
            "Epoch 23/70\n",
            "\u001b[1m225/225\u001b[0m \u001b[32m━━━━━━━━━━━━━━━━━━━━\u001b[0m\u001b[37m\u001b[0m \u001b[1m11s\u001b[0m 48ms/step - accuracy: 0.5679 - loss: 1.1501 - val_accuracy: 0.5822 - val_loss: 1.0931\n",
            "Epoch 24/70\n",
            "\u001b[1m225/225\u001b[0m \u001b[32m━━━━━━━━━━━━━━━━━━━━\u001b[0m\u001b[37m\u001b[0m \u001b[1m11s\u001b[0m 49ms/step - accuracy: 0.5702 - loss: 1.1364 - val_accuracy: 0.5956 - val_loss: 1.0782\n",
            "Epoch 25/70\n",
            "\u001b[1m225/225\u001b[0m \u001b[32m━━━━━━━━━━━━━━━━━━━━\u001b[0m\u001b[37m\u001b[0m \u001b[1m21s\u001b[0m 49ms/step - accuracy: 0.5778 - loss: 1.1180 - val_accuracy: 0.5948 - val_loss: 1.0908\n",
            "Epoch 26/70\n",
            "\u001b[1m225/225\u001b[0m \u001b[32m━━━━━━━━━━━━━━━━━━━━\u001b[0m\u001b[37m\u001b[0m \u001b[1m20s\u001b[0m 48ms/step - accuracy: 0.5748 - loss: 1.1156 - val_accuracy: 0.5948 - val_loss: 1.0706\n",
            "Epoch 27/70\n",
            "\u001b[1m225/225\u001b[0m \u001b[32m━━━━━━━━━━━━━━━━━━━━\u001b[0m\u001b[37m\u001b[0m \u001b[1m11s\u001b[0m 50ms/step - accuracy: 0.5790 - loss: 1.1144 - val_accuracy: 0.5936 - val_loss: 1.0707\n",
            "Epoch 28/70\n",
            "\u001b[1m225/225\u001b[0m \u001b[32m━━━━━━━━━━━━━━━━━━━━\u001b[0m\u001b[37m\u001b[0m \u001b[1m20s\u001b[0m 50ms/step - accuracy: 0.5842 - loss: 1.0914 - val_accuracy: 0.5928 - val_loss: 1.0724\n",
            "Epoch 29/70\n",
            "\u001b[1m225/225\u001b[0m \u001b[32m━━━━━━━━━━━━━━━━━━━━\u001b[0m\u001b[37m\u001b[0m \u001b[1m20s\u001b[0m 48ms/step - accuracy: 0.5863 - loss: 1.0950 - val_accuracy: 0.5970 - val_loss: 1.0626\n",
            "Epoch 30/70\n",
            "\u001b[1m225/225\u001b[0m \u001b[32m━━━━━━━━━━━━━━━━━━━━\u001b[0m\u001b[37m\u001b[0m \u001b[1m11s\u001b[0m 49ms/step - accuracy: 0.5896 - loss: 1.0906 - val_accuracy: 0.5935 - val_loss: 1.0653\n",
            "Epoch 31/70\n",
            "\u001b[1m225/225\u001b[0m \u001b[32m━━━━━━━━━━━━━━━━━━━━\u001b[0m\u001b[37m\u001b[0m \u001b[1m11s\u001b[0m 48ms/step - accuracy: 0.5997 - loss: 1.0705 - val_accuracy: 0.6013 - val_loss: 1.0500\n",
            "Epoch 32/70\n",
            "\u001b[1m225/225\u001b[0m \u001b[32m━━━━━━━━━━━━━━━━━━━━\u001b[0m\u001b[37m\u001b[0m \u001b[1m21s\u001b[0m 49ms/step - accuracy: 0.5964 - loss: 1.0575 - val_accuracy: 0.6008 - val_loss: 1.0570\n",
            "Epoch 33/70\n",
            "\u001b[1m225/225\u001b[0m \u001b[32m━━━━━━━━━━━━━━━━━━━━\u001b[0m\u001b[37m\u001b[0m \u001b[1m11s\u001b[0m 49ms/step - accuracy: 0.5995 - loss: 1.0661 - val_accuracy: 0.5963 - val_loss: 1.0667\n",
            "Epoch 34/70\n",
            "\u001b[1m225/225\u001b[0m \u001b[32m━━━━━━━━━━━━━━━━━━━━\u001b[0m\u001b[37m\u001b[0m \u001b[1m11s\u001b[0m 48ms/step - accuracy: 0.6070 - loss: 1.0446 - val_accuracy: 0.6009 - val_loss: 1.0496\n",
            "Epoch 35/70\n",
            "\u001b[1m225/225\u001b[0m \u001b[32m━━━━━━━━━━━━━━━━━━━━\u001b[0m\u001b[37m\u001b[0m \u001b[1m11s\u001b[0m 50ms/step - accuracy: 0.6043 - loss: 1.0408 - val_accuracy: 0.6030 - val_loss: 1.0535\n",
            "Epoch 36/70\n",
            "\u001b[1m225/225\u001b[0m \u001b[32m━━━━━━━━━━━━━━━━━━━━\u001b[0m\u001b[37m\u001b[0m \u001b[1m20s\u001b[0m 48ms/step - accuracy: 0.6077 - loss: 1.0351 - val_accuracy: 0.6026 - val_loss: 1.0532\n",
            "Epoch 37/70\n",
            "\u001b[1m225/225\u001b[0m \u001b[32m━━━━━━━━━━━━━━━━━━━━\u001b[0m\u001b[37m\u001b[0m \u001b[1m11s\u001b[0m 50ms/step - accuracy: 0.6087 - loss: 1.0484 - val_accuracy: 0.5991 - val_loss: 1.0642\n",
            "Epoch 38/70\n",
            "\u001b[1m225/225\u001b[0m \u001b[32m━━━━━━━━━━━━━━━━━━━━\u001b[0m\u001b[37m\u001b[0m \u001b[1m21s\u001b[0m 51ms/step - accuracy: 0.6098 - loss: 1.0305 - val_accuracy: 0.6074 - val_loss: 1.0410\n",
            "Epoch 39/70\n",
            "\u001b[1m225/225\u001b[0m \u001b[32m━━━━━━━━━━━━━━━━━━━━\u001b[0m\u001b[37m\u001b[0m \u001b[1m11s\u001b[0m 49ms/step - accuracy: 0.6135 - loss: 1.0376 - val_accuracy: 0.6030 - val_loss: 1.0424\n",
            "Epoch 40/70\n",
            "\u001b[1m225/225\u001b[0m \u001b[32m━━━━━━━━━━━━━━━━━━━━\u001b[0m\u001b[37m\u001b[0m \u001b[1m11s\u001b[0m 49ms/step - accuracy: 0.6213 - loss: 1.0124 - val_accuracy: 0.6087 - val_loss: 1.0347\n",
            "Epoch 41/70\n",
            "\u001b[1m225/225\u001b[0m \u001b[32m━━━━━━━━━━━━━━━━━━━━\u001b[0m\u001b[37m\u001b[0m \u001b[1m21s\u001b[0m 50ms/step - accuracy: 0.6218 - loss: 1.0023 - val_accuracy: 0.6108 - val_loss: 1.0326\n",
            "Epoch 42/70\n",
            "\u001b[1m225/225\u001b[0m \u001b[32m━━━━━━━━━━━━━━━━━━━━\u001b[0m\u001b[37m\u001b[0m \u001b[1m20s\u001b[0m 50ms/step - accuracy: 0.6283 - loss: 0.9969 - val_accuracy: 0.6105 - val_loss: 1.0411\n",
            "Epoch 43/70\n",
            "\u001b[1m225/225\u001b[0m \u001b[32m━━━━━━━━━━━━━━━━━━━━\u001b[0m\u001b[37m\u001b[0m \u001b[1m20s\u001b[0m 48ms/step - accuracy: 0.6233 - loss: 1.0043 - val_accuracy: 0.6132 - val_loss: 1.0302\n",
            "Epoch 44/70\n",
            "\u001b[1m225/225\u001b[0m \u001b[32m━━━━━━━━━━━━━━━━━━━━\u001b[0m\u001b[37m\u001b[0m \u001b[1m20s\u001b[0m 48ms/step - accuracy: 0.6177 - loss: 1.0089 - val_accuracy: 0.6130 - val_loss: 1.0285\n",
            "Epoch 45/70\n",
            "\u001b[1m225/225\u001b[0m \u001b[32m━━━━━━━━━━━━━━━━━━━━\u001b[0m\u001b[37m\u001b[0m \u001b[1m20s\u001b[0m 48ms/step - accuracy: 0.6260 - loss: 1.0009 - val_accuracy: 0.6134 - val_loss: 1.0382\n",
            "Epoch 46/70\n",
            "\u001b[1m225/225\u001b[0m \u001b[32m━━━━━━━━━━━━━━━━━━━━\u001b[0m\u001b[37m\u001b[0m \u001b[1m11s\u001b[0m 48ms/step - accuracy: 0.6304 - loss: 0.9876 - val_accuracy: 0.6165 - val_loss: 1.0195\n",
            "Epoch 47/70\n",
            "\u001b[1m225/225\u001b[0m \u001b[32m━━━━━━━━━━━━━━━━━━━━\u001b[0m\u001b[37m\u001b[0m \u001b[1m21s\u001b[0m 48ms/step - accuracy: 0.6314 - loss: 0.9816 - val_accuracy: 0.6187 - val_loss: 1.0266\n",
            "Epoch 48/70\n",
            "\u001b[1m225/225\u001b[0m \u001b[32m━━━━━━━━━━━━━━━━━━━━\u001b[0m\u001b[37m\u001b[0m \u001b[1m21s\u001b[0m 48ms/step - accuracy: 0.6390 - loss: 0.9606 - val_accuracy: 0.6198 - val_loss: 1.0209\n",
            "Epoch 49/70\n",
            "\u001b[1m225/225\u001b[0m \u001b[32m━━━━━━━━━━━━━━━━━━━━\u001b[0m\u001b[37m\u001b[0m \u001b[1m21s\u001b[0m 48ms/step - accuracy: 0.6304 - loss: 0.9807 - val_accuracy: 0.6106 - val_loss: 1.0386\n",
            "Epoch 50/70\n",
            "\u001b[1m225/225\u001b[0m \u001b[32m━━━━━━━━━━━━━━━━━━━━\u001b[0m\u001b[37m\u001b[0m \u001b[1m11s\u001b[0m 49ms/step - accuracy: 0.6399 - loss: 0.9620 - val_accuracy: 0.6197 - val_loss: 1.0200\n",
            "Epoch 51/70\n",
            "\u001b[1m225/225\u001b[0m \u001b[32m━━━━━━━━━━━━━━━━━━━━\u001b[0m\u001b[37m\u001b[0m \u001b[1m11s\u001b[0m 50ms/step - accuracy: 0.6354 - loss: 0.9653 - val_accuracy: 0.6205 - val_loss: 1.0125\n",
            "Epoch 52/70\n",
            "\u001b[1m225/225\u001b[0m \u001b[32m━━━━━━━━━━━━━━━━━━━━\u001b[0m\u001b[37m\u001b[0m \u001b[1m20s\u001b[0m 47ms/step - accuracy: 0.6507 - loss: 0.9493 - val_accuracy: 0.6210 - val_loss: 1.0229\n",
            "Epoch 53/70\n",
            "\u001b[1m225/225\u001b[0m \u001b[32m━━━━━━━━━━━━━━━━━━━━\u001b[0m\u001b[37m\u001b[0m \u001b[1m20s\u001b[0m 48ms/step - accuracy: 0.6454 - loss: 0.9477 - val_accuracy: 0.6224 - val_loss: 1.0221\n",
            "Epoch 54/70\n",
            "\u001b[1m225/225\u001b[0m \u001b[32m━━━━━━━━━━━━━━━━━━━━\u001b[0m\u001b[37m\u001b[0m \u001b[1m21s\u001b[0m 48ms/step - accuracy: 0.6516 - loss: 0.9392 - val_accuracy: 0.6186 - val_loss: 1.0196\n",
            "Epoch 55/70\n",
            "\u001b[1m225/225\u001b[0m \u001b[32m━━━━━━━━━━━━━━━━━━━━\u001b[0m\u001b[37m\u001b[0m \u001b[1m21s\u001b[0m 50ms/step - accuracy: 0.6545 - loss: 0.9241 - val_accuracy: 0.6253 - val_loss: 1.0132\n",
            "Epoch 56/70\n",
            "\u001b[1m225/225\u001b[0m \u001b[32m━━━━━━━━━━━━━━━━━━━━\u001b[0m\u001b[37m\u001b[0m \u001b[1m20s\u001b[0m 48ms/step - accuracy: 0.6556 - loss: 0.9298 - val_accuracy: 0.6221 - val_loss: 1.0143\n",
            "Epoch 57/70\n",
            "\u001b[1m225/225\u001b[0m \u001b[32m━━━━━━━━━━━━━━━━━━━━\u001b[0m\u001b[37m\u001b[0m \u001b[1m21s\u001b[0m 48ms/step - accuracy: 0.6531 - loss: 0.9340 - val_accuracy: 0.6247 - val_loss: 1.0176\n",
            "Epoch 58/70\n",
            "\u001b[1m225/225\u001b[0m \u001b[32m━━━━━━━━━━━━━━━━━━━━\u001b[0m\u001b[37m\u001b[0m \u001b[1m21s\u001b[0m 50ms/step - accuracy: 0.6590 - loss: 0.9160 - val_accuracy: 0.6265 - val_loss: 1.0180\n",
            "Epoch 59/70\n",
            "\u001b[1m225/225\u001b[0m \u001b[32m━━━━━━━━━━━━━━━━━━━━\u001b[0m\u001b[37m\u001b[0m \u001b[1m11s\u001b[0m 50ms/step - accuracy: 0.6569 - loss: 0.9154 - val_accuracy: 0.6237 - val_loss: 1.0259\n",
            "Epoch 60/70\n",
            "\u001b[1m225/225\u001b[0m \u001b[32m━━━━━━━━━━━━━━━━━━━━\u001b[0m\u001b[37m\u001b[0m \u001b[1m20s\u001b[0m 48ms/step - accuracy: 0.6695 - loss: 0.8907 - val_accuracy: 0.6218 - val_loss: 1.0141\n",
            "Epoch 61/70\n",
            "\u001b[1m225/225\u001b[0m \u001b[32m━━━━━━━━━━━━━━━━━━━━\u001b[0m\u001b[37m\u001b[0m \u001b[1m11s\u001b[0m 48ms/step - accuracy: 0.6715 - loss: 0.8917 - val_accuracy: 0.6257 - val_loss: 1.0228\n",
            "Epoch 62/70\n",
            "\u001b[1m225/225\u001b[0m \u001b[32m━━━━━━━━━━━━━━━━━━━━\u001b[0m\u001b[37m\u001b[0m \u001b[1m21s\u001b[0m 49ms/step - accuracy: 0.6681 - loss: 0.8916 - val_accuracy: 0.6281 - val_loss: 1.0127\n",
            "Epoch 63/70\n",
            "\u001b[1m225/225\u001b[0m \u001b[32m━━━━━━━━━━━━━━━━━━━━\u001b[0m\u001b[37m\u001b[0m \u001b[1m11s\u001b[0m 49ms/step - accuracy: 0.6693 - loss: 0.8957 - val_accuracy: 0.6237 - val_loss: 1.0200\n",
            "Epoch 64/70\n",
            "\u001b[1m225/225\u001b[0m \u001b[32m━━━━━━━━━━━━━━━━━━━━\u001b[0m\u001b[37m\u001b[0m \u001b[1m11s\u001b[0m 49ms/step - accuracy: 0.6673 - loss: 0.8912 - val_accuracy: 0.6282 - val_loss: 1.0111\n",
            "Epoch 65/70\n",
            "\u001b[1m225/225\u001b[0m \u001b[32m━━━━━━━━━━━━━━━━━━━━\u001b[0m\u001b[37m\u001b[0m \u001b[1m20s\u001b[0m 48ms/step - accuracy: 0.6754 - loss: 0.8775 - val_accuracy: 0.6242 - val_loss: 1.0163\n",
            "Epoch 66/70\n",
            "\u001b[1m225/225\u001b[0m \u001b[32m━━━━━━━━━━━━━━━━━━━━\u001b[0m\u001b[37m\u001b[0m \u001b[1m20s\u001b[0m 48ms/step - accuracy: 0.6779 - loss: 0.8775 - val_accuracy: 0.6210 - val_loss: 1.0207\n",
            "Epoch 67/70\n",
            "\u001b[1m225/225\u001b[0m \u001b[32m━━━━━━━━━━━━━━━━━━━━\u001b[0m\u001b[37m\u001b[0m \u001b[1m21s\u001b[0m 50ms/step - accuracy: 0.6746 - loss: 0.8766 - val_accuracy: 0.6310 - val_loss: 1.0161\n",
            "Epoch 68/70\n",
            "\u001b[1m225/225\u001b[0m \u001b[32m━━━━━━━━━━━━━━━━━━━━\u001b[0m\u001b[37m\u001b[0m \u001b[1m11s\u001b[0m 48ms/step - accuracy: 0.6797 - loss: 0.8692 - val_accuracy: 0.6329 - val_loss: 1.0113\n",
            "Epoch 69/70\n",
            "\u001b[1m225/225\u001b[0m \u001b[32m━━━━━━━━━━━━━━━━━━━━\u001b[0m\u001b[37m\u001b[0m \u001b[1m11s\u001b[0m 48ms/step - accuracy: 0.6844 - loss: 0.8558 - val_accuracy: 0.6254 - val_loss: 1.0138\n",
            "Epoch 70/70\n",
            "\u001b[1m225/225\u001b[0m \u001b[32m━━━━━━━━━━━━━━━━━━━━\u001b[0m\u001b[37m\u001b[0m \u001b[1m11s\u001b[0m 48ms/step - accuracy: 0.6796 - loss: 0.8687 - val_accuracy: 0.6356 - val_loss: 1.0139\n"
          ]
        }
      ],
      "source": [
        "# Training the model using the training data (x_train, y_train)\n",
        "# Validating the model using the validation data (x_test, y_test)\n",
        "history = model.fit(x=x_train, y=y_train, batch_size=128, epochs=70, validation_data=(x_test, y_test))"
      ]
    },
    {
      "cell_type": "code",
      "execution_count": null,
      "id": "lPNhl-_XDNsl",
      "metadata": {
        "colab": {
          "base_uri": "https://localhost:8080/"
        },
        "id": "lPNhl-_XDNsl",
        "outputId": "708539cc-99cd-4f66-d978-97dc1f706bd2"
      },
      "outputs": [
        {
          "name": "stdout",
          "output_type": "stream",
          "text": [
            "Final Training Loss: 0.8635\n",
            "Final Training Accuracy: 0.6810\n",
            "Final Validation Loss: 1.0139\n",
            "Final Validation Accuracy: 0.6356\n"
          ]
        }
      ],
      "source": [
        "# Get the training history dictionary\n",
        "history_dict = history.history\n",
        "\n",
        "# Print final values after last epoch\n",
        "final_train_loss = history_dict['loss'][-1]\n",
        "final_train_acc = history_dict['accuracy'][-1]\n",
        "\n",
        "final_val_loss = history_dict['val_loss'][-1]\n",
        "final_val_acc = history_dict['val_accuracy'][-1]\n",
        "\n",
        "print(f\"Final Training Loss: {final_train_loss:.4f}\")\n",
        "print(f\"Final Training Accuracy: {final_train_acc:.4f}\")\n",
        "print(f\"Final Validation Loss: {final_val_loss:.4f}\")\n",
        "print(f\"Final Validation Accuracy: {final_val_acc:.4f}\")"
      ]
    },
    {
      "cell_type": "code",
      "execution_count": null,
      "id": "a7eecd60",
      "metadata": {
        "colab": {
          "base_uri": "https://localhost:8080/"
        },
        "id": "a7eecd60",
        "outputId": "8ff35c6b-35d5-41a9-c6fb-374c1a98a2cb"
      },
      "outputs": [
        {
          "name": "stderr",
          "output_type": "stream",
          "text": [
            "WARNING:absl:You are saving your model as an HDF5 file via `model.save()` or `keras.saving.save_model(model)`. This file format is considered legacy. We recommend using instead the native Keras format, e.g. `model.save('my_model.keras')` or `keras.saving.save_model(model, 'my_model.keras')`. \n"
          ]
        }
      ],
      "source": [
        "# Saving the model weights to an HDF5 file\n",
        "model.save(\"emotion-detection.h5\")"
      ]
    },
    {
      "cell_type": "markdown",
      "id": "aec3a442",
      "metadata": {
        "id": "aec3a442"
      },
      "source": [
        "## Loading trained model\n"
      ]
    },
    {
      "cell_type": "code",
      "execution_count": null,
      "id": "MN02ZTAbOQTI",
      "metadata": {
        "colab": {
          "base_uri": "https://localhost:8080/"
        },
        "id": "MN02ZTAbOQTI",
        "outputId": "88e8f323-f5e5-45ed-91ae-c905ff47062b"
      },
      "outputs": [
        {
          "name": "stderr",
          "output_type": "stream",
          "text": [
            "WARNING:absl:Compiled the loaded model, but the compiled metrics have yet to be built. `model.compile_metrics` will be empty until you train or evaluate the model.\n"
          ]
        }
      ],
      "source": [
        "from keras.models import load_model"
      ]
    },
    {
      "cell_type": "code",
      "execution_count": null,
      "id": "jqeoRBCfboM1",
      "metadata": {
        "id": "jqeoRBCfboM1"
      },
      "outputs": [],
      "source": [
        "model = load_model(\"emotion-detection.h5\")"
      ]
    },
    {
      "cell_type": "code",
      "execution_count": null,
      "id": "gzR976wKbpPl",
      "metadata": {
        "id": "gzR976wKbpPl"
      },
      "outputs": [],
      "source": [
        "model = load_model(\"emotion-detection.h5\")\n",
        "\n",
        "# Optional (safe way)\n",
        "model.compile(optimizer='adam', loss='categorical_crossentropy', metrics=['accuracy'])\n",
        "\n",
        "# Now evaluate/train\n",
        "model.evaluate(x_test, y_test)\n"
      ]
    },
    {
      "cell_type": "code",
      "execution_count": null,
      "id": "028549ae",
      "metadata": {
        "id": "028549ae"
      },
      "outputs": [],
      "source": [
        "label=['angry','disgust','fear','happy','neutral','sad','surprise']"
      ]
    },
    {
      "cell_type": "code",
      "execution_count": null,
      "id": "09cd7fbf",
      "metadata": {
        "id": "09cd7fbf"
      },
      "outputs": [],
      "source": [
        "# Defining function to preprocess of a single image\n",
        "def ef(image):\n",
        "    img = load_img(image, grayscale=True)\n",
        "    feature = np.array(img)\n",
        "    feature = feature.reshape(1, 48, 48, 1)  # Reshaping in place\n",
        "    return feature / 255.0"
      ]
    },
    {
      "cell_type": "code",
      "execution_count": null,
      "id": "76c10f34",
      "metadata": {
        "id": "76c10f34",
        "outputId": "466c9b2d-e02a-4e0b-b795-2b4a51e5b4a5"
      },
      "outputs": [
        {
          "name": "stdout",
          "output_type": "stream",
          "text": [
            "Original image is angry\n",
            "1/1 [==============================] - 0s 271ms/step\n",
            "Model prediction is angry\n"
          ]
        },
        {
          "data": {
            "image/png": "[encoded data removed]",
            "text/plain": [
              "<Figure size 640x480 with 1 Axes>"
            ]
          },
          "metadata": {},
          "output_type": "display_data"
        }
      ],
      "source": [
        "# Loading image, predicting, and displaying the image\n",
        "image_path = 'images/train/angry/22.jpg'\n",
        "print(\"Original image is angry\")\n",
        "img = ef(image_path)\n",
        "pred = model.predict(img)\n",
        "pred_label = label[pred.argmax()]\n",
        "print(\"Model prediction is\", pred_label)\n",
        "plt.imshow(img.reshape(48, 48), cmap='gray')\n",
        "plt.show()"
      ]
    },
    {
      "cell_type": "markdown",
      "id": "d5bcbaa2",
      "metadata": {
        "id": "d5bcbaa2"
      },
      "source": [
        "# Code for Real-Time Detection\n"
      ]
    },
    {
      "cell_type": "code",
      "execution_count": null,
      "id": "407dcdf0",
      "metadata": {
        "id": "407dcdf0"
      },
      "outputs": [],
      "source": [
        "# Importing necessary libraries for realtime prediction\n",
        "import cv2\n",
        "import numpy as np\n",
        "from tensorflow import keras\n",
        "model = keras.models.load_model(\"emotion-detection.h5\")\n",
        "# Loading Haar cascade for face detection\n",
        "haar_file = cv2.data.haarcascades + 'haarcascade_frontalface_default.xml'\n",
        "face_cascade = cv2.CascadeClassifier(haar_file)\n",
        "\n",
        "# Defining a function to extract features from an image\n",
        "def extract_features(image):\n",
        "    feature = np.array(image)\n",
        "    feature = feature.reshape(1, 48, 48, 1)\n",
        "    return feature / 255.0\n",
        "\n",
        "# Open webcam\n",
        "webcam = cv2.VideoCapture(0)\n",
        "\n",
        "# Defining dictionary for mapping numerical labels to emotions\n",
        "labels = {0: 'angry', 1: 'disgust', 2: 'fear', 3: 'happy', 4: 'neutral', 5: 'sad', 6: 'surprise'}\n",
        "\n",
        "# Continuous looping for capturing and processing webcam frames\n",
        "while True:\n",
        "    # Reading frame from webcam\n",
        "    i, im = webcam.read()\n",
        "    # Converting frame to grayscale\n",
        "    gray = cv2.cvtColor(im, cv2.COLOR_BGR2GRAY)\n",
        "    # Detecting faces in the grayscale frame\n",
        "    faces = face_cascade.detectMultiScale(im, 1.3, 5)\n",
        "    try:\n",
        "        # Iterating over detected faces\n",
        "        for (p, q, r, s) in faces:\n",
        "            # Croping face region from the grayscale frame\n",
        "            image = gray[q:q+s, p:p+r]\n",
        "            # Drawing rectangle around the detected face\n",
        "            cv2.rectangle(im, (p, q), (p+r, q+s), (255, 0, 0), 2)\n",
        "            # Resize the cropped face region to match model input size\n",
        "            image = cv2.resize(image, (48, 48))\n",
        "            # Extracting features from the resized face image\n",
        "            img = extract_features(image)\n",
        "            # Making prediction using the loaded model\n",
        "            pred = model.predict(img)\n",
        "            # Getting the predicted emotion label\n",
        "            prediction_label = labels[pred.argmax()]\n",
        "            # Displaying the predicted emotion label on the frame\n",
        "            cv2.putText(im, '%s' %(prediction_label), (p-10, q-10), cv2.FONT_HERSHEY_COMPLEX_SMALL, 2, (0, 0, 255))\n",
        "        # Displaying the frame with predicted emotion labels\n",
        "        cv2.imshow(\"Output\", im)\n",
        "        # Waitting for key press and close the window if 'Esc' key is pressed\n",
        "        cv2.waitKey(27)\n",
        "    except cv2.error:\n",
        "        pass  # Skip processing if an error occurs (e.g., no face detected)\n"
      ]
    }
  ],
  "metadata": {
    "accelerator": "GPU",
    "colab": {
      "gpuType": "T4",
      "provenance": []
    },
    "kernelspec": {
      "display_name": "Python 3",
      "name": "python3"
    },
    "language_info": {
      "codemirror_mode": {
        "name": "ipython",
        "version": 3
      },
      "file_extension": ".py",
      "mimetype": "text/x-python",
      "name": "python",
      "nbconvert_exporter": "python",
      "pygments_lexer": "ipython3",
      "version": "3.11.4"
    },
    "widgets": {
      "application/vnd.jupyter.widget-state+json": {}
    }
  },
  "nbformat": 4,
  "nbformat_minor": 5
}
